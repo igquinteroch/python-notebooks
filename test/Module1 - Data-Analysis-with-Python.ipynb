{
 "cells": [
  {
   "cell_type": "markdown",
   "id": "2f5ce568",
   "metadata": {},
   "source": [
    "# Data Analysis with Python"
   ]
  },
  {
   "cell_type": "markdown",
   "id": "aa734cda",
   "metadata": {},
   "source": [
    "* Alumno: Ignacio Antonio Quintero Chávez.\n",
    "* Matrícula: A01794419.\n",
    "* Materia: Ciencia y analítica de datos.\n",
    "* Profesor: Jobish Vallikavungal Devassia.\n",
    "* Fecha: Octubre 2022."
   ]
  },
  {
   "cell_type": "markdown",
   "id": "03e0ad99",
   "metadata": {},
   "source": [
    "### Module 1 - Introduction"
   ]
  },
  {
   "cell_type": "code",
   "execution_count": null,
   "id": "08144faf",
   "metadata": {},
   "outputs": [],
   "source": []
  }
 ],
 "metadata": {
  "kernelspec": {
   "display_name": "Python 3 (ipykernel)",
   "language": "python",
   "name": "python3"
  },
  "language_info": {
   "codemirror_mode": {
    "name": "ipython",
    "version": 3
   },
   "file_extension": ".py",
   "mimetype": "text/x-python",
   "name": "python",
   "nbconvert_exporter": "python",
   "pygments_lexer": "ipython3",
   "version": "3.9.7"
  }
 },
 "nbformat": 4,
 "nbformat_minor": 5
}
